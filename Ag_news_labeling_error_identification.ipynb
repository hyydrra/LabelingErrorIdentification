{
  "nbformat": 4,
  "nbformat_minor": 0,
  "metadata": {
    "colab": {
      "provenance": [],
      "collapsed_sections": [
        "XpF2oSXJFrw7"
      ]
    },
    "kernelspec": {
      "name": "python3",
      "display_name": "Python 3"
    },
    "language_info": {
      "name": "python"
    },
    "gpuClass": "standard",
    "widgets": {
      "application/vnd.jupyter.widget-state+json": {
        "201402f1943a47e7811acfca975c9360": {
          "model_module": "@jupyter-widgets/controls",
          "model_name": "HBoxModel",
          "model_module_version": "1.5.0",
          "state": {
            "_dom_classes": [],
            "_model_module": "@jupyter-widgets/controls",
            "_model_module_version": "1.5.0",
            "_model_name": "HBoxModel",
            "_view_count": null,
            "_view_module": "@jupyter-widgets/controls",
            "_view_module_version": "1.5.0",
            "_view_name": "HBoxView",
            "box_style": "",
            "children": [
              "IPY_MODEL_65cfae7487644b4aab5c758f9fd97f80",
              "IPY_MODEL_47927ace514a48888b90a765ee5519df",
              "IPY_MODEL_31c9df6cdf424a0e8af01c6d912e0d5f"
            ],
            "layout": "IPY_MODEL_76bef41c97524d82bc17d5aa01e3a659"
          }
        },
        "65cfae7487644b4aab5c758f9fd97f80": {
          "model_module": "@jupyter-widgets/controls",
          "model_name": "HTMLModel",
          "model_module_version": "1.5.0",
          "state": {
            "_dom_classes": [],
            "_model_module": "@jupyter-widgets/controls",
            "_model_module_version": "1.5.0",
            "_model_name": "HTMLModel",
            "_view_count": null,
            "_view_module": "@jupyter-widgets/controls",
            "_view_module_version": "1.5.0",
            "_view_name": "HTMLView",
            "description": "",
            "description_tooltip": null,
            "layout": "IPY_MODEL_418bc3e1a2e6498d9d13e73bb8693e04",
            "placeholder": "​",
            "style": "IPY_MODEL_346dcde13c954cd5935544c51d307f06",
            "value": "Downloading (…)solve/main/vocab.txt: 100%"
          }
        },
        "47927ace514a48888b90a765ee5519df": {
          "model_module": "@jupyter-widgets/controls",
          "model_name": "FloatProgressModel",
          "model_module_version": "1.5.0",
          "state": {
            "_dom_classes": [],
            "_model_module": "@jupyter-widgets/controls",
            "_model_module_version": "1.5.0",
            "_model_name": "FloatProgressModel",
            "_view_count": null,
            "_view_module": "@jupyter-widgets/controls",
            "_view_module_version": "1.5.0",
            "_view_name": "ProgressView",
            "bar_style": "success",
            "description": "",
            "description_tooltip": null,
            "layout": "IPY_MODEL_d55b70ab8dc84c149cd237c373b69fb9",
            "max": 231508,
            "min": 0,
            "orientation": "horizontal",
            "style": "IPY_MODEL_93ea5be461da434688b0f5834395a04b",
            "value": 231508
          }
        },
        "31c9df6cdf424a0e8af01c6d912e0d5f": {
          "model_module": "@jupyter-widgets/controls",
          "model_name": "HTMLModel",
          "model_module_version": "1.5.0",
          "state": {
            "_dom_classes": [],
            "_model_module": "@jupyter-widgets/controls",
            "_model_module_version": "1.5.0",
            "_model_name": "HTMLModel",
            "_view_count": null,
            "_view_module": "@jupyter-widgets/controls",
            "_view_module_version": "1.5.0",
            "_view_name": "HTMLView",
            "description": "",
            "description_tooltip": null,
            "layout": "IPY_MODEL_fc206ef61946420b9248f2cbc48e3601",
            "placeholder": "​",
            "style": "IPY_MODEL_bdbd2398355d424aa82b5ce608d977d4",
            "value": " 232k/232k [00:00&lt;00:00, 3.66MB/s]"
          }
        },
        "76bef41c97524d82bc17d5aa01e3a659": {
          "model_module": "@jupyter-widgets/base",
          "model_name": "LayoutModel",
          "model_module_version": "1.2.0",
          "state": {
            "_model_module": "@jupyter-widgets/base",
            "_model_module_version": "1.2.0",
            "_model_name": "LayoutModel",
            "_view_count": null,
            "_view_module": "@jupyter-widgets/base",
            "_view_module_version": "1.2.0",
            "_view_name": "LayoutView",
            "align_content": null,
            "align_items": null,
            "align_self": null,
            "border": null,
            "bottom": null,
            "display": null,
            "flex": null,
            "flex_flow": null,
            "grid_area": null,
            "grid_auto_columns": null,
            "grid_auto_flow": null,
            "grid_auto_rows": null,
            "grid_column": null,
            "grid_gap": null,
            "grid_row": null,
            "grid_template_areas": null,
            "grid_template_columns": null,
            "grid_template_rows": null,
            "height": null,
            "justify_content": null,
            "justify_items": null,
            "left": null,
            "margin": null,
            "max_height": null,
            "max_width": null,
            "min_height": null,
            "min_width": null,
            "object_fit": null,
            "object_position": null,
            "order": null,
            "overflow": null,
            "overflow_x": null,
            "overflow_y": null,
            "padding": null,
            "right": null,
            "top": null,
            "visibility": null,
            "width": null
          }
        },
        "418bc3e1a2e6498d9d13e73bb8693e04": {
          "model_module": "@jupyter-widgets/base",
          "model_name": "LayoutModel",
          "model_module_version": "1.2.0",
          "state": {
            "_model_module": "@jupyter-widgets/base",
            "_model_module_version": "1.2.0",
            "_model_name": "LayoutModel",
            "_view_count": null,
            "_view_module": "@jupyter-widgets/base",
            "_view_module_version": "1.2.0",
            "_view_name": "LayoutView",
            "align_content": null,
            "align_items": null,
            "align_self": null,
            "border": null,
            "bottom": null,
            "display": null,
            "flex": null,
            "flex_flow": null,
            "grid_area": null,
            "grid_auto_columns": null,
            "grid_auto_flow": null,
            "grid_auto_rows": null,
            "grid_column": null,
            "grid_gap": null,
            "grid_row": null,
            "grid_template_areas": null,
            "grid_template_columns": null,
            "grid_template_rows": null,
            "height": null,
            "justify_content": null,
            "justify_items": null,
            "left": null,
            "margin": null,
            "max_height": null,
            "max_width": null,
            "min_height": null,
            "min_width": null,
            "object_fit": null,
            "object_position": null,
            "order": null,
            "overflow": null,
            "overflow_x": null,
            "overflow_y": null,
            "padding": null,
            "right": null,
            "top": null,
            "visibility": null,
            "width": null
          }
        },
        "346dcde13c954cd5935544c51d307f06": {
          "model_module": "@jupyter-widgets/controls",
          "model_name": "DescriptionStyleModel",
          "model_module_version": "1.5.0",
          "state": {
            "_model_module": "@jupyter-widgets/controls",
            "_model_module_version": "1.5.0",
            "_model_name": "DescriptionStyleModel",
            "_view_count": null,
            "_view_module": "@jupyter-widgets/base",
            "_view_module_version": "1.2.0",
            "_view_name": "StyleView",
            "description_width": ""
          }
        },
        "d55b70ab8dc84c149cd237c373b69fb9": {
          "model_module": "@jupyter-widgets/base",
          "model_name": "LayoutModel",
          "model_module_version": "1.2.0",
          "state": {
            "_model_module": "@jupyter-widgets/base",
            "_model_module_version": "1.2.0",
            "_model_name": "LayoutModel",
            "_view_count": null,
            "_view_module": "@jupyter-widgets/base",
            "_view_module_version": "1.2.0",
            "_view_name": "LayoutView",
            "align_content": null,
            "align_items": null,
            "align_self": null,
            "border": null,
            "bottom": null,
            "display": null,
            "flex": null,
            "flex_flow": null,
            "grid_area": null,
            "grid_auto_columns": null,
            "grid_auto_flow": null,
            "grid_auto_rows": null,
            "grid_column": null,
            "grid_gap": null,
            "grid_row": null,
            "grid_template_areas": null,
            "grid_template_columns": null,
            "grid_template_rows": null,
            "height": null,
            "justify_content": null,
            "justify_items": null,
            "left": null,
            "margin": null,
            "max_height": null,
            "max_width": null,
            "min_height": null,
            "min_width": null,
            "object_fit": null,
            "object_position": null,
            "order": null,
            "overflow": null,
            "overflow_x": null,
            "overflow_y": null,
            "padding": null,
            "right": null,
            "top": null,
            "visibility": null,
            "width": null
          }
        },
        "93ea5be461da434688b0f5834395a04b": {
          "model_module": "@jupyter-widgets/controls",
          "model_name": "ProgressStyleModel",
          "model_module_version": "1.5.0",
          "state": {
            "_model_module": "@jupyter-widgets/controls",
            "_model_module_version": "1.5.0",
            "_model_name": "ProgressStyleModel",
            "_view_count": null,
            "_view_module": "@jupyter-widgets/base",
            "_view_module_version": "1.2.0",
            "_view_name": "StyleView",
            "bar_color": null,
            "description_width": ""
          }
        },
        "fc206ef61946420b9248f2cbc48e3601": {
          "model_module": "@jupyter-widgets/base",
          "model_name": "LayoutModel",
          "model_module_version": "1.2.0",
          "state": {
            "_model_module": "@jupyter-widgets/base",
            "_model_module_version": "1.2.0",
            "_model_name": "LayoutModel",
            "_view_count": null,
            "_view_module": "@jupyter-widgets/base",
            "_view_module_version": "1.2.0",
            "_view_name": "LayoutView",
            "align_content": null,
            "align_items": null,
            "align_self": null,
            "border": null,
            "bottom": null,
            "display": null,
            "flex": null,
            "flex_flow": null,
            "grid_area": null,
            "grid_auto_columns": null,
            "grid_auto_flow": null,
            "grid_auto_rows": null,
            "grid_column": null,
            "grid_gap": null,
            "grid_row": null,
            "grid_template_areas": null,
            "grid_template_columns": null,
            "grid_template_rows": null,
            "height": null,
            "justify_content": null,
            "justify_items": null,
            "left": null,
            "margin": null,
            "max_height": null,
            "max_width": null,
            "min_height": null,
            "min_width": null,
            "object_fit": null,
            "object_position": null,
            "order": null,
            "overflow": null,
            "overflow_x": null,
            "overflow_y": null,
            "padding": null,
            "right": null,
            "top": null,
            "visibility": null,
            "width": null
          }
        },
        "bdbd2398355d424aa82b5ce608d977d4": {
          "model_module": "@jupyter-widgets/controls",
          "model_name": "DescriptionStyleModel",
          "model_module_version": "1.5.0",
          "state": {
            "_model_module": "@jupyter-widgets/controls",
            "_model_module_version": "1.5.0",
            "_model_name": "DescriptionStyleModel",
            "_view_count": null,
            "_view_module": "@jupyter-widgets/base",
            "_view_module_version": "1.2.0",
            "_view_name": "StyleView",
            "description_width": ""
          }
        },
        "99f4e2308ce84db3b0c5ad677c563a2d": {
          "model_module": "@jupyter-widgets/controls",
          "model_name": "HBoxModel",
          "model_module_version": "1.5.0",
          "state": {
            "_dom_classes": [],
            "_model_module": "@jupyter-widgets/controls",
            "_model_module_version": "1.5.0",
            "_model_name": "HBoxModel",
            "_view_count": null,
            "_view_module": "@jupyter-widgets/controls",
            "_view_module_version": "1.5.0",
            "_view_name": "HBoxView",
            "box_style": "",
            "children": [
              "IPY_MODEL_bd2c77ec960247a7843b4300a6c0b435",
              "IPY_MODEL_e3b0467d7ed94657a8efd28eb733c5ed",
              "IPY_MODEL_39aa615893ae4ef082edae50eb6d2666"
            ],
            "layout": "IPY_MODEL_deda174596354e3199f459f1dbc6ddb2"
          }
        },
        "bd2c77ec960247a7843b4300a6c0b435": {
          "model_module": "@jupyter-widgets/controls",
          "model_name": "HTMLModel",
          "model_module_version": "1.5.0",
          "state": {
            "_dom_classes": [],
            "_model_module": "@jupyter-widgets/controls",
            "_model_module_version": "1.5.0",
            "_model_name": "HTMLModel",
            "_view_count": null,
            "_view_module": "@jupyter-widgets/controls",
            "_view_module_version": "1.5.0",
            "_view_name": "HTMLView",
            "description": "",
            "description_tooltip": null,
            "layout": "IPY_MODEL_9ada89811ee44453bf713f8d000afbb6",
            "placeholder": "​",
            "style": "IPY_MODEL_e3241497fff94ffe9af527988da8ba1f",
            "value": "Downloading (…)okenizer_config.json: 100%"
          }
        },
        "e3b0467d7ed94657a8efd28eb733c5ed": {
          "model_module": "@jupyter-widgets/controls",
          "model_name": "FloatProgressModel",
          "model_module_version": "1.5.0",
          "state": {
            "_dom_classes": [],
            "_model_module": "@jupyter-widgets/controls",
            "_model_module_version": "1.5.0",
            "_model_name": "FloatProgressModel",
            "_view_count": null,
            "_view_module": "@jupyter-widgets/controls",
            "_view_module_version": "1.5.0",
            "_view_name": "ProgressView",
            "bar_style": "success",
            "description": "",
            "description_tooltip": null,
            "layout": "IPY_MODEL_45524e659fec45189694b098ef341899",
            "max": 28,
            "min": 0,
            "orientation": "horizontal",
            "style": "IPY_MODEL_7f67c7836d5f47aeaa5e901f88bbb6df",
            "value": 28
          }
        },
        "39aa615893ae4ef082edae50eb6d2666": {
          "model_module": "@jupyter-widgets/controls",
          "model_name": "HTMLModel",
          "model_module_version": "1.5.0",
          "state": {
            "_dom_classes": [],
            "_model_module": "@jupyter-widgets/controls",
            "_model_module_version": "1.5.0",
            "_model_name": "HTMLModel",
            "_view_count": null,
            "_view_module": "@jupyter-widgets/controls",
            "_view_module_version": "1.5.0",
            "_view_name": "HTMLView",
            "description": "",
            "description_tooltip": null,
            "layout": "IPY_MODEL_164b81aca697433bbd5e916592f4e2d7",
            "placeholder": "​",
            "style": "IPY_MODEL_8b8490686a7a4388909835a1f6fd642a",
            "value": " 28.0/28.0 [00:00&lt;00:00, 569B/s]"
          }
        },
        "deda174596354e3199f459f1dbc6ddb2": {
          "model_module": "@jupyter-widgets/base",
          "model_name": "LayoutModel",
          "model_module_version": "1.2.0",
          "state": {
            "_model_module": "@jupyter-widgets/base",
            "_model_module_version": "1.2.0",
            "_model_name": "LayoutModel",
            "_view_count": null,
            "_view_module": "@jupyter-widgets/base",
            "_view_module_version": "1.2.0",
            "_view_name": "LayoutView",
            "align_content": null,
            "align_items": null,
            "align_self": null,
            "border": null,
            "bottom": null,
            "display": null,
            "flex": null,
            "flex_flow": null,
            "grid_area": null,
            "grid_auto_columns": null,
            "grid_auto_flow": null,
            "grid_auto_rows": null,
            "grid_column": null,
            "grid_gap": null,
            "grid_row": null,
            "grid_template_areas": null,
            "grid_template_columns": null,
            "grid_template_rows": null,
            "height": null,
            "justify_content": null,
            "justify_items": null,
            "left": null,
            "margin": null,
            "max_height": null,
            "max_width": null,
            "min_height": null,
            "min_width": null,
            "object_fit": null,
            "object_position": null,
            "order": null,
            "overflow": null,
            "overflow_x": null,
            "overflow_y": null,
            "padding": null,
            "right": null,
            "top": null,
            "visibility": null,
            "width": null
          }
        },
        "9ada89811ee44453bf713f8d000afbb6": {
          "model_module": "@jupyter-widgets/base",
          "model_name": "LayoutModel",
          "model_module_version": "1.2.0",
          "state": {
            "_model_module": "@jupyter-widgets/base",
            "_model_module_version": "1.2.0",
            "_model_name": "LayoutModel",
            "_view_count": null,
            "_view_module": "@jupyter-widgets/base",
            "_view_module_version": "1.2.0",
            "_view_name": "LayoutView",
            "align_content": null,
            "align_items": null,
            "align_self": null,
            "border": null,
            "bottom": null,
            "display": null,
            "flex": null,
            "flex_flow": null,
            "grid_area": null,
            "grid_auto_columns": null,
            "grid_auto_flow": null,
            "grid_auto_rows": null,
            "grid_column": null,
            "grid_gap": null,
            "grid_row": null,
            "grid_template_areas": null,
            "grid_template_columns": null,
            "grid_template_rows": null,
            "height": null,
            "justify_content": null,
            "justify_items": null,
            "left": null,
            "margin": null,
            "max_height": null,
            "max_width": null,
            "min_height": null,
            "min_width": null,
            "object_fit": null,
            "object_position": null,
            "order": null,
            "overflow": null,
            "overflow_x": null,
            "overflow_y": null,
            "padding": null,
            "right": null,
            "top": null,
            "visibility": null,
            "width": null
          }
        },
        "e3241497fff94ffe9af527988da8ba1f": {
          "model_module": "@jupyter-widgets/controls",
          "model_name": "DescriptionStyleModel",
          "model_module_version": "1.5.0",
          "state": {
            "_model_module": "@jupyter-widgets/controls",
            "_model_module_version": "1.5.0",
            "_model_name": "DescriptionStyleModel",
            "_view_count": null,
            "_view_module": "@jupyter-widgets/base",
            "_view_module_version": "1.2.0",
            "_view_name": "StyleView",
            "description_width": ""
          }
        },
        "45524e659fec45189694b098ef341899": {
          "model_module": "@jupyter-widgets/base",
          "model_name": "LayoutModel",
          "model_module_version": "1.2.0",
          "state": {
            "_model_module": "@jupyter-widgets/base",
            "_model_module_version": "1.2.0",
            "_model_name": "LayoutModel",
            "_view_count": null,
            "_view_module": "@jupyter-widgets/base",
            "_view_module_version": "1.2.0",
            "_view_name": "LayoutView",
            "align_content": null,
            "align_items": null,
            "align_self": null,
            "border": null,
            "bottom": null,
            "display": null,
            "flex": null,
            "flex_flow": null,
            "grid_area": null,
            "grid_auto_columns": null,
            "grid_auto_flow": null,
            "grid_auto_rows": null,
            "grid_column": null,
            "grid_gap": null,
            "grid_row": null,
            "grid_template_areas": null,
            "grid_template_columns": null,
            "grid_template_rows": null,
            "height": null,
            "justify_content": null,
            "justify_items": null,
            "left": null,
            "margin": null,
            "max_height": null,
            "max_width": null,
            "min_height": null,
            "min_width": null,
            "object_fit": null,
            "object_position": null,
            "order": null,
            "overflow": null,
            "overflow_x": null,
            "overflow_y": null,
            "padding": null,
            "right": null,
            "top": null,
            "visibility": null,
            "width": null
          }
        },
        "7f67c7836d5f47aeaa5e901f88bbb6df": {
          "model_module": "@jupyter-widgets/controls",
          "model_name": "ProgressStyleModel",
          "model_module_version": "1.5.0",
          "state": {
            "_model_module": "@jupyter-widgets/controls",
            "_model_module_version": "1.5.0",
            "_model_name": "ProgressStyleModel",
            "_view_count": null,
            "_view_module": "@jupyter-widgets/base",
            "_view_module_version": "1.2.0",
            "_view_name": "StyleView",
            "bar_color": null,
            "description_width": ""
          }
        },
        "164b81aca697433bbd5e916592f4e2d7": {
          "model_module": "@jupyter-widgets/base",
          "model_name": "LayoutModel",
          "model_module_version": "1.2.0",
          "state": {
            "_model_module": "@jupyter-widgets/base",
            "_model_module_version": "1.2.0",
            "_model_name": "LayoutModel",
            "_view_count": null,
            "_view_module": "@jupyter-widgets/base",
            "_view_module_version": "1.2.0",
            "_view_name": "LayoutView",
            "align_content": null,
            "align_items": null,
            "align_self": null,
            "border": null,
            "bottom": null,
            "display": null,
            "flex": null,
            "flex_flow": null,
            "grid_area": null,
            "grid_auto_columns": null,
            "grid_auto_flow": null,
            "grid_auto_rows": null,
            "grid_column": null,
            "grid_gap": null,
            "grid_row": null,
            "grid_template_areas": null,
            "grid_template_columns": null,
            "grid_template_rows": null,
            "height": null,
            "justify_content": null,
            "justify_items": null,
            "left": null,
            "margin": null,
            "max_height": null,
            "max_width": null,
            "min_height": null,
            "min_width": null,
            "object_fit": null,
            "object_position": null,
            "order": null,
            "overflow": null,
            "overflow_x": null,
            "overflow_y": null,
            "padding": null,
            "right": null,
            "top": null,
            "visibility": null,
            "width": null
          }
        },
        "8b8490686a7a4388909835a1f6fd642a": {
          "model_module": "@jupyter-widgets/controls",
          "model_name": "DescriptionStyleModel",
          "model_module_version": "1.5.0",
          "state": {
            "_model_module": "@jupyter-widgets/controls",
            "_model_module_version": "1.5.0",
            "_model_name": "DescriptionStyleModel",
            "_view_count": null,
            "_view_module": "@jupyter-widgets/base",
            "_view_module_version": "1.2.0",
            "_view_name": "StyleView",
            "description_width": ""
          }
        },
        "e224a1472ed842f5a704237849c9a0ae": {
          "model_module": "@jupyter-widgets/controls",
          "model_name": "HBoxModel",
          "model_module_version": "1.5.0",
          "state": {
            "_dom_classes": [],
            "_model_module": "@jupyter-widgets/controls",
            "_model_module_version": "1.5.0",
            "_model_name": "HBoxModel",
            "_view_count": null,
            "_view_module": "@jupyter-widgets/controls",
            "_view_module_version": "1.5.0",
            "_view_name": "HBoxView",
            "box_style": "",
            "children": [
              "IPY_MODEL_6834c4225396427093408ae1b06a26df",
              "IPY_MODEL_2b9683fd19114f4cad3f107923c8cb58",
              "IPY_MODEL_7df71ae6f6bf40e693fefaf63a74237b"
            ],
            "layout": "IPY_MODEL_056ea46cf2014c54add37fe3b8aac814"
          }
        },
        "6834c4225396427093408ae1b06a26df": {
          "model_module": "@jupyter-widgets/controls",
          "model_name": "HTMLModel",
          "model_module_version": "1.5.0",
          "state": {
            "_dom_classes": [],
            "_model_module": "@jupyter-widgets/controls",
            "_model_module_version": "1.5.0",
            "_model_name": "HTMLModel",
            "_view_count": null,
            "_view_module": "@jupyter-widgets/controls",
            "_view_module_version": "1.5.0",
            "_view_name": "HTMLView",
            "description": "",
            "description_tooltip": null,
            "layout": "IPY_MODEL_e6eedf32c080476597ca5f6ba9c47fac",
            "placeholder": "​",
            "style": "IPY_MODEL_e85ab69ee7e548668dc441ff773a8e30",
            "value": "Downloading (…)lve/main/config.json: 100%"
          }
        },
        "2b9683fd19114f4cad3f107923c8cb58": {
          "model_module": "@jupyter-widgets/controls",
          "model_name": "FloatProgressModel",
          "model_module_version": "1.5.0",
          "state": {
            "_dom_classes": [],
            "_model_module": "@jupyter-widgets/controls",
            "_model_module_version": "1.5.0",
            "_model_name": "FloatProgressModel",
            "_view_count": null,
            "_view_module": "@jupyter-widgets/controls",
            "_view_module_version": "1.5.0",
            "_view_name": "ProgressView",
            "bar_style": "success",
            "description": "",
            "description_tooltip": null,
            "layout": "IPY_MODEL_fbeb0f4e63bc41eea8165ca97fc86cd5",
            "max": 483,
            "min": 0,
            "orientation": "horizontal",
            "style": "IPY_MODEL_0a156046ee6449b98b286e1b68dc9704",
            "value": 483
          }
        },
        "7df71ae6f6bf40e693fefaf63a74237b": {
          "model_module": "@jupyter-widgets/controls",
          "model_name": "HTMLModel",
          "model_module_version": "1.5.0",
          "state": {
            "_dom_classes": [],
            "_model_module": "@jupyter-widgets/controls",
            "_model_module_version": "1.5.0",
            "_model_name": "HTMLModel",
            "_view_count": null,
            "_view_module": "@jupyter-widgets/controls",
            "_view_module_version": "1.5.0",
            "_view_name": "HTMLView",
            "description": "",
            "description_tooltip": null,
            "layout": "IPY_MODEL_5ea37df5e1484c1593d3b4a98259bf5e",
            "placeholder": "​",
            "style": "IPY_MODEL_21772b967a0a478ca78e87044102aa74",
            "value": " 483/483 [00:00&lt;00:00, 7.25kB/s]"
          }
        },
        "056ea46cf2014c54add37fe3b8aac814": {
          "model_module": "@jupyter-widgets/base",
          "model_name": "LayoutModel",
          "model_module_version": "1.2.0",
          "state": {
            "_model_module": "@jupyter-widgets/base",
            "_model_module_version": "1.2.0",
            "_model_name": "LayoutModel",
            "_view_count": null,
            "_view_module": "@jupyter-widgets/base",
            "_view_module_version": "1.2.0",
            "_view_name": "LayoutView",
            "align_content": null,
            "align_items": null,
            "align_self": null,
            "border": null,
            "bottom": null,
            "display": null,
            "flex": null,
            "flex_flow": null,
            "grid_area": null,
            "grid_auto_columns": null,
            "grid_auto_flow": null,
            "grid_auto_rows": null,
            "grid_column": null,
            "grid_gap": null,
            "grid_row": null,
            "grid_template_areas": null,
            "grid_template_columns": null,
            "grid_template_rows": null,
            "height": null,
            "justify_content": null,
            "justify_items": null,
            "left": null,
            "margin": null,
            "max_height": null,
            "max_width": null,
            "min_height": null,
            "min_width": null,
            "object_fit": null,
            "object_position": null,
            "order": null,
            "overflow": null,
            "overflow_x": null,
            "overflow_y": null,
            "padding": null,
            "right": null,
            "top": null,
            "visibility": null,
            "width": null
          }
        },
        "e6eedf32c080476597ca5f6ba9c47fac": {
          "model_module": "@jupyter-widgets/base",
          "model_name": "LayoutModel",
          "model_module_version": "1.2.0",
          "state": {
            "_model_module": "@jupyter-widgets/base",
            "_model_module_version": "1.2.0",
            "_model_name": "LayoutModel",
            "_view_count": null,
            "_view_module": "@jupyter-widgets/base",
            "_view_module_version": "1.2.0",
            "_view_name": "LayoutView",
            "align_content": null,
            "align_items": null,
            "align_self": null,
            "border": null,
            "bottom": null,
            "display": null,
            "flex": null,
            "flex_flow": null,
            "grid_area": null,
            "grid_auto_columns": null,
            "grid_auto_flow": null,
            "grid_auto_rows": null,
            "grid_column": null,
            "grid_gap": null,
            "grid_row": null,
            "grid_template_areas": null,
            "grid_template_columns": null,
            "grid_template_rows": null,
            "height": null,
            "justify_content": null,
            "justify_items": null,
            "left": null,
            "margin": null,
            "max_height": null,
            "max_width": null,
            "min_height": null,
            "min_width": null,
            "object_fit": null,
            "object_position": null,
            "order": null,
            "overflow": null,
            "overflow_x": null,
            "overflow_y": null,
            "padding": null,
            "right": null,
            "top": null,
            "visibility": null,
            "width": null
          }
        },
        "e85ab69ee7e548668dc441ff773a8e30": {
          "model_module": "@jupyter-widgets/controls",
          "model_name": "DescriptionStyleModel",
          "model_module_version": "1.5.0",
          "state": {
            "_model_module": "@jupyter-widgets/controls",
            "_model_module_version": "1.5.0",
            "_model_name": "DescriptionStyleModel",
            "_view_count": null,
            "_view_module": "@jupyter-widgets/base",
            "_view_module_version": "1.2.0",
            "_view_name": "StyleView",
            "description_width": ""
          }
        },
        "fbeb0f4e63bc41eea8165ca97fc86cd5": {
          "model_module": "@jupyter-widgets/base",
          "model_name": "LayoutModel",
          "model_module_version": "1.2.0",
          "state": {
            "_model_module": "@jupyter-widgets/base",
            "_model_module_version": "1.2.0",
            "_model_name": "LayoutModel",
            "_view_count": null,
            "_view_module": "@jupyter-widgets/base",
            "_view_module_version": "1.2.0",
            "_view_name": "LayoutView",
            "align_content": null,
            "align_items": null,
            "align_self": null,
            "border": null,
            "bottom": null,
            "display": null,
            "flex": null,
            "flex_flow": null,
            "grid_area": null,
            "grid_auto_columns": null,
            "grid_auto_flow": null,
            "grid_auto_rows": null,
            "grid_column": null,
            "grid_gap": null,
            "grid_row": null,
            "grid_template_areas": null,
            "grid_template_columns": null,
            "grid_template_rows": null,
            "height": null,
            "justify_content": null,
            "justify_items": null,
            "left": null,
            "margin": null,
            "max_height": null,
            "max_width": null,
            "min_height": null,
            "min_width": null,
            "object_fit": null,
            "object_position": null,
            "order": null,
            "overflow": null,
            "overflow_x": null,
            "overflow_y": null,
            "padding": null,
            "right": null,
            "top": null,
            "visibility": null,
            "width": null
          }
        },
        "0a156046ee6449b98b286e1b68dc9704": {
          "model_module": "@jupyter-widgets/controls",
          "model_name": "ProgressStyleModel",
          "model_module_version": "1.5.0",
          "state": {
            "_model_module": "@jupyter-widgets/controls",
            "_model_module_version": "1.5.0",
            "_model_name": "ProgressStyleModel",
            "_view_count": null,
            "_view_module": "@jupyter-widgets/base",
            "_view_module_version": "1.2.0",
            "_view_name": "StyleView",
            "bar_color": null,
            "description_width": ""
          }
        },
        "5ea37df5e1484c1593d3b4a98259bf5e": {
          "model_module": "@jupyter-widgets/base",
          "model_name": "LayoutModel",
          "model_module_version": "1.2.0",
          "state": {
            "_model_module": "@jupyter-widgets/base",
            "_model_module_version": "1.2.0",
            "_model_name": "LayoutModel",
            "_view_count": null,
            "_view_module": "@jupyter-widgets/base",
            "_view_module_version": "1.2.0",
            "_view_name": "LayoutView",
            "align_content": null,
            "align_items": null,
            "align_self": null,
            "border": null,
            "bottom": null,
            "display": null,
            "flex": null,
            "flex_flow": null,
            "grid_area": null,
            "grid_auto_columns": null,
            "grid_auto_flow": null,
            "grid_auto_rows": null,
            "grid_column": null,
            "grid_gap": null,
            "grid_row": null,
            "grid_template_areas": null,
            "grid_template_columns": null,
            "grid_template_rows": null,
            "height": null,
            "justify_content": null,
            "justify_items": null,
            "left": null,
            "margin": null,
            "max_height": null,
            "max_width": null,
            "min_height": null,
            "min_width": null,
            "object_fit": null,
            "object_position": null,
            "order": null,
            "overflow": null,
            "overflow_x": null,
            "overflow_y": null,
            "padding": null,
            "right": null,
            "top": null,
            "visibility": null,
            "width": null
          }
        },
        "21772b967a0a478ca78e87044102aa74": {
          "model_module": "@jupyter-widgets/controls",
          "model_name": "DescriptionStyleModel",
          "model_module_version": "1.5.0",
          "state": {
            "_model_module": "@jupyter-widgets/controls",
            "_model_module_version": "1.5.0",
            "_model_name": "DescriptionStyleModel",
            "_view_count": null,
            "_view_module": "@jupyter-widgets/base",
            "_view_module_version": "1.2.0",
            "_view_name": "StyleView",
            "description_width": ""
          }
        }
      }
    },
    "accelerator": "TPU"
  },
  "cells": [
    {
      "cell_type": "code",
      "source": [
        "pip install transformers datasets"
      ],
      "metadata": {
        "id": "ahB2ify6y9Cc"
      },
      "execution_count": null,
      "outputs": []
    },
    {
      "cell_type": "code",
      "source": [
        "pip install faker"
      ],
      "metadata": {
        "id": "sne-i1U8CG2W"
      },
      "execution_count": null,
      "outputs": []
    },
    {
      "cell_type": "code",
      "source": [
        "pip install cleanlab"
      ],
      "metadata": {
        "id": "655lHi7MMdOK"
      },
      "execution_count": null,
      "outputs": []
    },
    {
      "cell_type": "code",
      "source": [
        "import numpy as np\n",
        "import pandas as pd\n",
        "import tensorflow as tf\n",
        "import matplotlib.pyplot as plt\n",
        "from tqdm import tqdm\n",
        "\n",
        "from transformers import DistilBertTokenizer, DistilBertConfig, TFDistilBertModel\n",
        "\n",
        "from sklearn.model_selection import train_test_split\n",
        "from sklearn.feature_extraction.text import CountVectorizer\n",
        "from mlxtend.plotting import plot_confusion_matrix\n",
        "from sklearn.metrics import confusion_matrix, precision_score, recall_score\n",
        "\n",
        "from tensorflow.keras.models import Model, Sequential\n",
        "from tensorflow.keras import layers\n",
        "from tensorflow.keras.layers import Embedding, LSTM, Conv2D, Conv1D, MaxPooling1D, Dense, Dropout, GlobalMaxPooling1D, Input, Bidirectional, concatenate, Flatten, GlobalAveragePooling1D\n",
        "from tensorflow.keras.preprocessing.text import Tokenizer\n",
        "from tensorflow.keras.optimizers import Adam\n",
        "from tensorflow.keras.preprocessing.sequence import pad_sequences\n",
        "from tensorflow.keras.callbacks import ModelCheckpoint, EarlyStopping\n",
        "from tensorflow.keras.utils import plot_model\n",
        "\n",
        "import cleanlab\n",
        "\n",
        "# physical_devices = tf.config.list_physical_devices('GPU')\n",
        "# tf.config.experimental.set_memory_growth(physical_devices[0], enable=True)\n",
        "\n",
        "# detect and init the TPU\n",
        "tpu = tf.distribute.cluster_resolver.TPUClusterResolver()\n",
        "tf.config.experimental_connect_to_cluster(tpu)\n",
        "tf.tpu.experimental.initialize_tpu_system(tpu)\n",
        "\n",
        "# instantiate a distribution strategy\n",
        "tpu_strategy = tf.distribute.experimental.TPUStrategy(tpu)"
      ],
      "metadata": {
        "id": "otaVmo-iy2I7"
      },
      "execution_count": null,
      "outputs": []
    },
    {
      "cell_type": "markdown",
      "source": [
        "# Preparing data"
      ],
      "metadata": {
        "id": "aN8-jJPRLBvI"
      }
    },
    {
      "cell_type": "markdown",
      "source": [
        "Creating labeling noise for evaluation phase"
      ],
      "metadata": {
        "id": "2uBqgoyQJ1Jk"
      }
    },
    {
      "cell_type": "code",
      "source": [
        "from faker import Faker\n",
        "import pandas as pd\n",
        "import random\n",
        "\n",
        "fake = Faker()\n",
        "\n",
        "# generate random text data\n",
        "data = []\n",
        "for i in range(500):\n",
        "    text = fake.text()\n",
        "    true_label = 5\n",
        "    label = random.choice(list(range(1,5)))\n",
        "    data.append((text, label, true_label))\n",
        "\n",
        "# create a pandas dataframe\n",
        "df = pd.DataFrame(data, columns=['text', 'changed Index' ,'Class Index'])\n",
        "df"
      ],
      "metadata": {
        "id": "EpO1CRdDBqfR"
      },
      "execution_count": null,
      "outputs": []
    },
    {
      "cell_type": "code",
      "source": [
        "data = pd.read_csv(\"/content/drive/MyDrive/ECE720/downsample_agnew_with_oos.csv\")\n",
        "data[\"changed Index\"] = data[\"Class Index\"]\n",
        "\n",
        "# Select n random rows\n",
        "random_rows = np.random.choice(data[data[\"Class Index\"] != 5].index, size=120, replace=False)\n",
        "\n",
        "# Set the \"changed Index\" column of the selected rows to a random integer between 1 and 4\n",
        "data.loc[random_rows, \"changed Index\"] = np.random.randint(1, 5, size=120)\n"
      ],
      "metadata": {
        "id": "WeQEk78ePoPt"
      },
      "execution_count": null,
      "outputs": []
    },
    {
      "cell_type": "code",
      "source": [
        "final_data = pd.concat([data, df]).reset_index(drop=True)\n",
        "final_data = final_data.sample(frac=1).reset_index(drop=True)\n",
        "final_data.to_csv(\"/content/drive/MyDrive/ECE720/digi_text/AGnew/final_data.csv\", index=False)\n",
        "final_data"
      ],
      "metadata": {
        "id": "kXSf8wVORlQw"
      },
      "execution_count": null,
      "outputs": []
    },
    {
      "cell_type": "markdown",
      "source": [
        "Loading the datset and concatenating it with noisy data"
      ],
      "metadata": {
        "id": "hSmk1C1vKDfo"
      }
    },
    {
      "cell_type": "code",
      "source": [
        "data = pd.read_csv(\"/content/drive/MyDrive/ECE720/downsample_agnew_with_oos.csv\")\n",
        "data[\"changed Index\"] = data[\"Class Index\"]\n",
        "temp = data[data[\"changed Index\"] ==5]\n",
        "temp2 = pd.read_csv(\"/content/drive/MyDrive/ECE720/digi_text/AGnew/final_data.csv\")\n",
        "final_data = pd.concat([temp, temp2]).reset_index(drop=True)\n",
        "final_data = final_data.sample(frac=1).reset_index(drop=True)\n",
        "final_data"
      ],
      "metadata": {
        "id": "Tjnfo_qMRPE2"
      },
      "execution_count": null,
      "outputs": []
    },
    {
      "cell_type": "markdown",
      "source": [
        "# Training Classifer for Out of Sample Prediction"
      ],
      "metadata": {
        "id": "PI5ahxG6LKGn"
      }
    },
    {
      "cell_type": "code",
      "source": [
        "from sklearn.model_selection import KFold\n",
        "\n",
        "# Assuming the dataframe is named \"final_data\" and you want to divide it into 5 folds\n",
        "k = 5\n",
        "kf = KFold(n_splits=k)\n",
        "\n",
        "fold_indices = []\n",
        "for train_index, test_index in kf.split(final_data):\n",
        "    fold_indices.append((train_index, test_index))"
      ],
      "metadata": {
        "id": "TCzmxa7kSjzh"
      },
      "execution_count": null,
      "outputs": []
    },
    {
      "cell_type": "code",
      "source": [
        "vocab_size = 20000\n",
        "embed_size = 32\n",
        "distil_bert = 'distilbert-base-uncased'\n",
        "\n",
        "maxlen = final_data['text'].map(lambda x: len(x.split())).max()\n",
        "\n",
        "tokenizer = DistilBertTokenizer.from_pretrained(distil_bert, do_lower_case=True, add_special_tokens=True,\n",
        "                                                max_length=maxlen, pad_to_max_length=True)\n",
        "\n",
        "def tokenize(sentences, tokenizer):\n",
        "    input_ids, input_masks, input_segments = [],[],[]\n",
        "    for sentence in tqdm(sentences):\n",
        "        inputs = tokenizer.encode_plus(sentence, add_special_tokens=True, max_length=maxlen, pad_to_max_length=True, \n",
        "                                             return_attention_mask=True, return_token_type_ids=True)\n",
        "        input_ids.append(inputs['input_ids'])\n",
        "        input_masks.append(inputs['attention_mask'])\n",
        "        input_segments.append(inputs['token_type_ids'])        \n",
        "        \n",
        "    return np.asarray(input_ids, dtype='int32'), np.asarray(input_masks, dtype='int32'), np.asarray(input_segments, dtype='int32')"
      ],
      "metadata": {
        "id": "VSrjmlAtz2v8",
        "colab": {
          "base_uri": "https://localhost:8080/",
          "height": 113,
          "referenced_widgets": [
            "201402f1943a47e7811acfca975c9360",
            "65cfae7487644b4aab5c758f9fd97f80",
            "47927ace514a48888b90a765ee5519df",
            "31c9df6cdf424a0e8af01c6d912e0d5f",
            "76bef41c97524d82bc17d5aa01e3a659",
            "418bc3e1a2e6498d9d13e73bb8693e04",
            "346dcde13c954cd5935544c51d307f06",
            "d55b70ab8dc84c149cd237c373b69fb9",
            "93ea5be461da434688b0f5834395a04b",
            "fc206ef61946420b9248f2cbc48e3601",
            "bdbd2398355d424aa82b5ce608d977d4",
            "99f4e2308ce84db3b0c5ad677c563a2d",
            "bd2c77ec960247a7843b4300a6c0b435",
            "e3b0467d7ed94657a8efd28eb733c5ed",
            "39aa615893ae4ef082edae50eb6d2666",
            "deda174596354e3199f459f1dbc6ddb2",
            "9ada89811ee44453bf713f8d000afbb6",
            "e3241497fff94ffe9af527988da8ba1f",
            "45524e659fec45189694b098ef341899",
            "7f67c7836d5f47aeaa5e901f88bbb6df",
            "164b81aca697433bbd5e916592f4e2d7",
            "8b8490686a7a4388909835a1f6fd642a",
            "e224a1472ed842f5a704237849c9a0ae",
            "6834c4225396427093408ae1b06a26df",
            "2b9683fd19114f4cad3f107923c8cb58",
            "7df71ae6f6bf40e693fefaf63a74237b",
            "056ea46cf2014c54add37fe3b8aac814",
            "e6eedf32c080476597ca5f6ba9c47fac",
            "e85ab69ee7e548668dc441ff773a8e30",
            "fbeb0f4e63bc41eea8165ca97fc86cd5",
            "0a156046ee6449b98b286e1b68dc9704",
            "5ea37df5e1484c1593d3b4a98259bf5e",
            "21772b967a0a478ca78e87044102aa74"
          ]
        },
        "outputId": "350676ef-b65c-4bd4-c95b-4a9103e1267f"
      },
      "execution_count": null,
      "outputs": [
        {
          "output_type": "display_data",
          "data": {
            "text/plain": [
              "Downloading (…)solve/main/vocab.txt:   0%|          | 0.00/232k [00:00<?, ?B/s]"
            ],
            "application/vnd.jupyter.widget-view+json": {
              "version_major": 2,
              "version_minor": 0,
              "model_id": "201402f1943a47e7811acfca975c9360"
            }
          },
          "metadata": {}
        },
        {
          "output_type": "display_data",
          "data": {
            "text/plain": [
              "Downloading (…)okenizer_config.json:   0%|          | 0.00/28.0 [00:00<?, ?B/s]"
            ],
            "application/vnd.jupyter.widget-view+json": {
              "version_major": 2,
              "version_minor": 0,
              "model_id": "99f4e2308ce84db3b0c5ad677c563a2d"
            }
          },
          "metadata": {}
        },
        {
          "output_type": "display_data",
          "data": {
            "text/plain": [
              "Downloading (…)lve/main/config.json:   0%|          | 0.00/483 [00:00<?, ?B/s]"
            ],
            "application/vnd.jupyter.widget-view+json": {
              "version_major": 2,
              "version_minor": 0,
              "model_id": "e224a1472ed842f5a704237849c9a0ae"
            }
          },
          "metadata": {}
        }
      ]
    },
    {
      "cell_type": "code",
      "source": [
        "predctions = [[]] * len(final_data)\n",
        "for i, (train_index, test_index) in enumerate(fold_indices):\n",
        "  train_data = final_data.iloc[train_index]\n",
        "  test_data = final_data.iloc[test_index]\n",
        "\n",
        "\n",
        "  X_train = train_data['text']\n",
        "  y_train = train_data['changed Index'].apply(lambda x: x-1).values\n",
        "\n",
        "  x_test = test_data['text']\n",
        "  y_test = test_data['changed Index'].apply(lambda x: x-1).values\n",
        "\n",
        "\n",
        "  num_labels = 5\n",
        "\n",
        "  # Tokenize desc and title train data\n",
        "  X_train = tokenize(X_train, tokenizer)\n",
        "  x_test = tokenize(x_test, tokenizer)\n",
        "\n",
        "\n",
        "  with tpu_strategy.scope():\n",
        "    config = DistilBertConfig(dropout=0.2, attention_dropout=0.2)\n",
        "    config.output_hidden_states = False\n",
        "    transformer_model = TFDistilBertModel.from_pretrained(distil_bert, config=config)\n",
        "\n",
        "    input_ids_in = tf.keras.layers.Input(shape=(maxlen,), name='input_token', dtype='int32')\n",
        "    input_masks_in = tf.keras.layers.Input(shape=(maxlen,), name='masked_token', dtype='int32') \n",
        "\n",
        "    embedding_layer = transformer_model(input_ids_in, attention_mask=input_masks_in)[0]\n",
        "    X = tf.keras.layers.Bidirectional(tf.keras.layers.LSTM(64, return_sequences=True))(embedding_layer)\n",
        "    X = tf.keras.layers.GlobalMaxPool1D()(X)\n",
        "    X = tf.keras.layers.Dense(64, activation='relu')(X)\n",
        "    X = tf.keras.layers.Dropout(0.2)(X)\n",
        "    X = tf.keras.layers.Dense(num_labels, activation='sigmoid')(X)\n",
        "    model = tf.keras.Model(inputs=[input_ids_in, input_masks_in], outputs = X)\n",
        "\n",
        "    for layer in model.layers[:3]:\n",
        "      layer.trainable = False\n",
        "\n",
        "  print(model.summary())\n",
        "\n",
        "  callbacks = [\n",
        "    ModelCheckpoint(\n",
        "        filepath=\"/content/drive/MyDrive/ECE720/digi_text/AGnew/weights_oos_fold\"+str(i)+\".h5\",\n",
        "        monitor='val_accuracy', \n",
        "        mode='max', \n",
        "        save_best_only=True,\n",
        "        save_weights_only=True,\n",
        "        verbose=1)]\n",
        "\n",
        "  model.compile(loss='sparse_categorical_crossentropy', optimizer='adam', metrics=['accuracy'])\n",
        "  model.fit(X_train[0:2], y_train, batch_size=1024, validation_data=(x_test[0:2], y_test), epochs=10, callbacks=callbacks)\n",
        "\n",
        "  pred_probs = model.predict(x_test[0:2])\n",
        "  for j in range(len(test_index)):\n",
        "    if predctions[test_index[j]] != []:\n",
        "      print(\"ga\")\n",
        "    predctions[test_index[j]] = pred_probs[j]\n"
      ],
      "metadata": {
        "id": "yclPusiBURc2"
      },
      "execution_count": null,
      "outputs": []
    },
    {
      "cell_type": "code",
      "source": [
        "preds = [np.argmax(i) for i in predctions]\n",
        "labels = np.asarray(final_data[\"changed Index\"])-1"
      ],
      "metadata": {
        "id": "Th7uRfLzbT0i"
      },
      "execution_count": null,
      "outputs": []
    },
    {
      "cell_type": "code",
      "source": [
        "cm  = confusion_matrix(labels, preds)\n",
        "plt.figure()\n",
        "plot_confusion_matrix(cm, figsize=(16,12), hide_ticks=True, cmap=plt.cm.Blues)\n",
        "plt.xticks(range(5), [0,1,2,3,4], fontsize=12)\n",
        "plt.yticks(range(5),  [0,1,2,3,4], fontsize=12)\n",
        "plt.show()"
      ],
      "metadata": {
        "id": "W9H8puGAn-Po"
      },
      "execution_count": null,
      "outputs": []
    },
    {
      "cell_type": "markdown",
      "source": [
        "# Confident Learning Step"
      ],
      "metadata": {
        "id": "taU0XHdWLWZ1"
      }
    },
    {
      "cell_type": "code",
      "source": [
        "\n",
        "# STEP 1 - Compute confident joint\n",
        "\n",
        "# Verify inputs\n",
        "labels = np.asarray(final_data[\"changed Index\"])-1\n",
        "pred_probs = np.asarray(predctions)\n",
        "\n",
        "# Find the number of unique classes if K is not given\n",
        "K = len(np.unique(labels))\n",
        "\n",
        "# Estimate the probability thresholds for confident counting\n",
        "# You can specify these thresholds yourself if you want\n",
        "# as you may want to optimize them using a validation set.\n",
        "# By default (and provably so) they are set to the average class prob.\n",
        "thresholds = [np.mean(pred_probs[:, k][labels == k]) for k in range(K)]  # P(label^=k|label=k)\n",
        "thresholds = np.asarray(thresholds)\n",
        "\n",
        "# Compute confident joint\n",
        "confident_joint = np.zeros((K, K), dtype=int)\n",
        "for i, row in enumerate(pred_probs):\n",
        "    # row = np.array(row)\n",
        "    s_label = labels[i]\n",
        "    # Find out how many classes each example is confidently labeled as\n",
        "    confident_bins = row >= thresholds - 1e-6\n",
        "    num_confident_bins = sum(confident_bins)\n",
        "    # If more than one conf class, inc the count of the max prob class\n",
        "    if num_confident_bins == 1:\n",
        "        confident_joint[s_label][np.argmax(confident_bins)] += 1\n",
        "    elif num_confident_bins > 1:\n",
        "        confident_joint[s_label][np.argmax(row)] += 1\n",
        "\n",
        "# Normalize confident joint (use cleanlab, trust me on this)\n",
        "confident_joint = cleanlab.count.calibrate_confident_joint(confident_joint, labels)\n",
        "\n",
        "cleanlab.internal.util.print_joint_matrix(confident_joint)\n"
      ],
      "metadata": {
        "colab": {
          "base_uri": "https://localhost:8080/"
        },
        "id": "Nm-MLctmb-Fp",
        "outputId": "af252bd7-b6e1-4c45-b434-631698e53672"
      },
      "execution_count": null,
      "outputs": [
        {
          "output_type": "stream",
          "name": "stdout",
          "text": [
            "\n",
            " Joint Label Noise Distribution Matrix P(given_label, true_label) of shape (5, 5)\n",
            " p(s,y)\ty=0\ty=1\ty=2\ty=3\ty=4\n",
            "\t---\t---\t---\t---\t---\n",
            "s=0 |\t5275\t121\t183\t135\t0\n",
            "s=1 |\t60\t5641\t12\t17\t1\n",
            "s=2 |\t144\t26\t5081\t473\t4\n",
            "s=3 |\t116\t20\t264\t5330\t1\n",
            "s=4 |\t11\t13\t22\t14\t11142\n",
            "\tTrace(matrix) = 32469\n",
            "\n"
          ]
        }
      ]
    },
    {
      "cell_type": "code",
      "source": [
        "# STEP 2 - Find label errors\n",
        "\n",
        "# We arbitrarily choose at least 5 examples left in every class.\n",
        "# Regardless of whether some of them might be label errors.\n",
        "MIN_NUM_PER_CLASS = 5\n",
        "# Leave at least MIN_NUM_PER_CLASS examples per class.\n",
        "# NOTE prune_count_matrix is transposed (relative to confident_joint)\n",
        "prune_count_matrix = cleanlab.filter._keep_at_least_n_per_class(\n",
        "    prune_count_matrix=confident_joint.T,\n",
        "    n=MIN_NUM_PER_CLASS,\n",
        ")\n",
        "\n",
        "s_counts = np.bincount(labels)\n",
        "noise_masks_per_class = []\n",
        "# For each row in the transposed confident joint\n",
        "for k in range(K):\n",
        "    noise_mask = np.zeros(len(pred_probs), dtype=bool)\n",
        "    pred_probs_k = pred_probs[:, k]\n",
        "    if s_counts[k] > MIN_NUM_PER_CLASS:  # Don't prune if not MIN_NUM_PER_CLASS\n",
        "        for j in range(K):  # noisy label index (k is the true label index)\n",
        "            if k != j:  # Only prune for noise rates, not diagonal entries\n",
        "                num2prune = prune_count_matrix[k][j]\n",
        "                if num2prune > 0:\n",
        "                    # num2prune'th largest p(classk) - p(class j)\n",
        "                    # for x with noisy label j\n",
        "                    margin = pred_probs_k - pred_probs[:, j]\n",
        "                    s_filter = labels == j\n",
        "                    threshold = -np.partition(-margin[s_filter], num2prune - 1)[\n",
        "                        num2prune - 1\n",
        "                    ]\n",
        "                    noise_mask = noise_mask | (s_filter & (margin >= threshold))\n",
        "        noise_masks_per_class.append(noise_mask)\n",
        "    else:\n",
        "        noise_masks_per_class.append(np.zeros(len(labels), dtype=bool))\n",
        "\n",
        "# Boolean label error mask\n",
        "label_errors_bool = np.stack(noise_masks_per_class).any(axis=0)\n",
        "\n",
        "# Remove label errors if given label == model prediction\n",
        "for i, pred_label in enumerate(pred_probs.argmax(axis=1)):\n",
        "    # np.all lets this work for multi_label and single label\n",
        "    if label_errors_bool[i] and np.all(pred_label == labels[i]):\n",
        "        label_errors_bool[i] = False\n",
        "\n",
        "# Convert boolean mask to an ordered list of indices for label errors\n",
        "label_errors_idx = np.arange(len(labels))[label_errors_bool]\n",
        "# self confidence is the holdout probability that an example\n",
        "# belongs to its given class label\n",
        "self_confidence = np.array([np.mean(pred_probs[i][labels[i]]) for i in label_errors_idx])\n",
        "margin = self_confidence - pred_probs[label_errors_bool].max(axis=1)\n",
        "label_errors_idx = label_errors_idx[np.argsort(margin)]\n",
        "\n",
        "print(\"Indices of label errors found by confident learning:\")\n",
        "print(\"Note label errors are sorted by likelihood of being an error\")\n",
        "print(\"but here we just sort them by index for comparison with above.\")\n",
        "print(np.array(sorted(label_errors_idx)))\n"
      ],
      "metadata": {
        "colab": {
          "base_uri": "https://localhost:8080/"
        },
        "id": "EqXE5bc6j_JQ",
        "outputId": "a0068625-6fac-406e-ef71-3e326bfceb41"
      },
      "execution_count": null,
      "outputs": [
        {
          "output_type": "stream",
          "name": "stdout",
          "text": [
            "Indices of label errors found by confident learning:\n",
            "Note label errors are sorted by likelihood of being an error\n",
            "but here we just sort them by index for comparison with above.\n",
            "[   14    35    53 ... 33966 33980 34103]\n"
          ]
        }
      ]
    },
    {
      "cell_type": "code",
      "source": [
        "test = final_data.iloc[label_errors_idx]\n",
        "test['pred'] = np.array(preds)[label_errors_idx] + 1\n",
        "test"
      ],
      "metadata": {
        "id": "26rPCIRUOCnJ"
      },
      "execution_count": null,
      "outputs": []
    },
    {
      "cell_type": "code",
      "source": [
        "different_rows = final_data[final_data[\"changed Index\"] != final_data[\"Class Index\"]]\n",
        "actual_label_errors = list(different_rows.index)\n",
        "NUM_ERRORS= len(actual_label_errors)"
      ],
      "metadata": {
        "id": "vUaGkY6QlWB_"
      },
      "execution_count": null,
      "outputs": []
    },
    {
      "cell_type": "code",
      "source": [
        "score = sum([e in label_errors_idx for e in actual_label_errors]) / NUM_ERRORS\n",
        "print(\"% actual errors that confident learning found: {:.0%}\".format(score))\n",
        "score = sum([e in actual_label_errors for e in label_errors_idx]) / len(\n",
        "    label_errors_idx\n",
        ")"
      ],
      "metadata": {
        "id": "aQjqpxM6jtnc"
      },
      "execution_count": null,
      "outputs": []
    },
    {
      "cell_type": "markdown",
      "source": [
        "# OOS data generation"
      ],
      "metadata": {
        "id": "XpF2oSXJFrw7"
      }
    },
    {
      "cell_type": "code",
      "source": [
        "import random\n",
        "\n",
        "def generate_mixed_sentence(df, label_col=\"label\"):\n",
        "    # Randomly select 3 texts with 3 different labels\n",
        "    texts = []\n",
        "    labels = []\n",
        "    while len(texts) < 3:\n",
        "        row = df.sample(n=1)\n",
        "        if row[label_col].values[0] not in labels:\n",
        "            texts.append(row['text'].values[0])\n",
        "            labels.append(row[label_col].values[0])\n",
        "\n",
        "    # Mix words of selected texts\n",
        "    words = []\n",
        "    for text in texts:\n",
        "        words += text.split()\n",
        "    random.shuffle(words)\n",
        "\n",
        "    # Generate new sentence with random length\n",
        "    new_sentence = ' '.join(random.sample(words, random.randint(min(len(words), 10), int(len(words)/3))))\n",
        "    \n",
        "    return new_sentence\n"
      ],
      "metadata": {
        "id": "kyzEal_nGDKx"
      },
      "execution_count": null,
      "outputs": []
    },
    {
      "cell_type": "code",
      "source": [
        "data = pd.read_csv(\"/content/drive/MyDrive/ECE720/train.csv\")\n",
        "\n",
        "X_train = data['Title'] + \" \" + data['Description']\n",
        "y_train = data['Class Index'].apply(lambda x: x-1).values # Classes need to begin from 0\n",
        "data['text'] = data['Title'] + \" \" + data['Description']\n",
        "data"
      ],
      "metadata": {
        "id": "oB6Jv_9EJxaX"
      },
      "execution_count": null,
      "outputs": []
    },
    {
      "cell_type": "code",
      "metadata": {
        "id": "DSQx0-qccQGz"
      },
      "source": [
        "from transformers import pipeline\n",
        "fill = pipeline('fill-mask', tokenizer='bert-base-uncased', model=\"bert-base-uncased\")"
      ],
      "execution_count": null,
      "outputs": []
    },
    {
      "cell_type": "markdown",
      "source": [
        "METHOD1"
      ],
      "metadata": {
        "id": "NnDFJM1VwxV8"
      }
    },
    {
      "cell_type": "code",
      "source": [
        "import random\n",
        "\n",
        "for i in range(data.shape[0]):\n",
        "  text = generate_mixed_sentence(data,label_col=\"Class Index\")\n",
        "  # text = data.iloc[i]['text']\n",
        "  text = text.split()\n",
        "  for j in range(len(text)):\n",
        "    if j >= len(text):\n",
        "      break\n",
        "    prob = random.uniform(0, 1)\n",
        "    if prob < 0.8:\n",
        "      text[j] = \"[MASK]\"\n",
        "      text = \" \".join(text)\n",
        "      text = fill(text)[random.randint(0,4)]['sequence']\n",
        "      text = text.split()\n",
        "    # elif prob < 0.8:\n",
        "    #   text[j] = r.get_random_word()\n",
        "\n",
        "\n",
        "  text = \" \".join(text) \n",
        "  print(text)\n",
        "  data.loc[i,'oos'] = text\n",
        "  data.loc[i,'Class Index'] = \"oos\"\n",
        "\n",
        "  if i%100==0:\n",
        "    print(i,\"******************************************************\\n\")\n",
        "    data.to_csv(\"/content/drive/MyDrive/ECE720/oos_new1.csv\", index=False)\n",
        "\n",
        "data"
      ],
      "metadata": {
        "id": "g9vPzwkDGDfr"
      },
      "execution_count": null,
      "outputs": []
    },
    {
      "cell_type": "markdown",
      "source": [
        "METHOD2"
      ],
      "metadata": {
        "id": "buPwDUlPwzIH"
      }
    },
    {
      "cell_type": "code",
      "source": [
        "import random\n",
        "\n",
        "for i in range(data.shape[0]):\n",
        "  text = data.iloc[i]['text']\n",
        "  text = text.split()\n",
        "  len_sentence = random.randint(int(len(text)/1.5),len(text))\n",
        "  text = text[random.randint(0,len(text)-1)]\n",
        "  for j in range(len_sentence):\n",
        "    text = text + \" [MASK]\"\n",
        "    text = fill(text)[random.randint(0,4)]['sequence']\n",
        "\n",
        "  print(text)\n",
        "  data.loc[i,'oos'] = text\n",
        "  data.loc[i,'Class Index'] = \"oos\"\n",
        "\n",
        "  if i%100==0:\n",
        "    print(i,\"******************************************************\\n\")\n",
        "    data.to_csv(\"/content/drive/MyDrive/ECE720/oos_new1.csv\", index=False)\n",
        "\n",
        "data"
      ],
      "metadata": {
        "id": "gxP0vHjHMdDG"
      },
      "execution_count": null,
      "outputs": []
    },
    {
      "cell_type": "code",
      "source": [
        "df = pd.read_csv(\"/content/drive/MyDrive/ECE720/oos_new.csv\")\n",
        "df1 = df[df['Class Index'] == 'oos']\n",
        "df1.to_csv(\"/content/drive/MyDrive/ECE720/oos_dgnew1.csv\", index=False)"
      ],
      "metadata": {
        "id": "XCYyVbPwOSlX"
      },
      "execution_count": null,
      "outputs": []
    },
    {
      "cell_type": "code",
      "source": [
        "oos = pd.read_csv(\"/content/drive/MyDrive/ECE720/oos_dgnew1.csv\")\n",
        "oos['text'] = oos['oos']\n",
        "oos = oos.drop(columns=['oos', 'Description', 'Title'])\n",
        "oos['Class Index'] = 5"
      ],
      "metadata": {
        "id": "4ZQgPZPJn139"
      },
      "execution_count": null,
      "outputs": []
    },
    {
      "cell_type": "code",
      "source": [
        "data = pd.read_csv(\"/content/drive/MyDrive/ECE720/train.csv\")\n",
        "\n",
        "X_train = data['Title'] + \" \" + data['Description']\n",
        "y_train = data['Class Index'].apply(lambda x: x-1).values # Classes need to begin from 0\n",
        "data['text'] = data['Title'] + \" \" + data['Description']\n",
        "data = data.drop(columns=['Description', 'Title'])"
      ],
      "metadata": {
        "id": "66jAZwQFzPl-"
      },
      "execution_count": null,
      "outputs": []
    },
    {
      "cell_type": "code",
      "source": [
        "final_data = pd.concat([data, oos]).reset_index(drop=True)"
      ],
      "metadata": {
        "id": "6YEhggJEz9y7"
      },
      "execution_count": null,
      "outputs": []
    },
    {
      "cell_type": "code",
      "source": [
        "import pandas as pd\n",
        "\n",
        "# Read the CSV file into a pandas dataframe\n",
        "df = final_data\n",
        "\n",
        "min_class_count = df['Class Index'].value_counts().min()\n",
        "result = df.groupby('Class Index').head(min_class_count).reset_index(drop=True)\n"
      ],
      "metadata": {
        "id": "SkH0TP04z5pC"
      },
      "execution_count": null,
      "outputs": []
    },
    {
      "cell_type": "code",
      "source": [
        "result.to_csv(\"/content/drive/MyDrive/ECE720/downsample_agnew_with_oos.csv\", index=False)"
      ],
      "metadata": {
        "id": "7VqjOIRe1bzf"
      },
      "execution_count": null,
      "outputs": []
    }
  ]
}